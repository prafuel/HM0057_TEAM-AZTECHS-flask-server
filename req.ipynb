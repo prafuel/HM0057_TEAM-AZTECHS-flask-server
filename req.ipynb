{
 "cells": [
  {
   "cell_type": "code",
   "execution_count": 1,
   "metadata": {},
   "outputs": [
    {
     "name": "stdout",
     "output_type": "stream",
     "text": [
      "<Response [200]>\n"
     ]
    }
   ],
   "source": [
    "import requests\n",
    "\n",
    "url = \"http://127.0.0.1:8000/\"\n",
    "data = {\n",
    "    \"data\" : \"what is data science\"\n",
    "}\n",
    "\n",
    "res = requests.post(url, json=data)\n",
    "\n",
    "print(res)\n"
   ]
  },
  {
   "cell_type": "code",
   "execution_count": 7,
   "metadata": {},
   "outputs": [
    {
     "data": {
      "text/plain": [
       "{'output': [{'contact': '4944429220',\n",
       "   'name': 'Mancuso',\n",
       "   'position': 'datascientist',\n",
       "   'yoe': '4'},\n",
       "  {'contact': '1244066238',\n",
       "   'name': 'Miller',\n",
       "   'position': 'datascientist',\n",
       "   'yoe': '2'},\n",
       "  {'contact': '2187566269',\n",
       "   'name': 'Langford',\n",
       "   'position': 'datascientist',\n",
       "   'yoe': '3'},\n",
       "  {'contact': '7422825938',\n",
       "   'name': 'Linden',\n",
       "   'position': 'datascientist',\n",
       "   'yoe': '3'},\n",
       "  {'contact': '7991907224',\n",
       "   'name': 'Mathew',\n",
       "   'position': 'datascientist',\n",
       "   'yoe': '3'}]}"
      ]
     },
     "execution_count": 7,
     "metadata": {},
     "output_type": "execute_result"
    }
   ],
   "source": [
    "res.json()"
   ]
  },
  {
   "cell_type": "code",
   "execution_count": null,
   "metadata": {},
   "outputs": [],
   "source": []
  }
 ],
 "metadata": {
  "kernelspec": {
   "display_name": "Python 3",
   "language": "python",
   "name": "python3"
  },
  "language_info": {
   "codemirror_mode": {
    "name": "ipython",
    "version": 3
   },
   "file_extension": ".py",
   "mimetype": "text/x-python",
   "name": "python",
   "nbconvert_exporter": "python",
   "pygments_lexer": "ipython3",
   "version": "3.10.12"
  }
 },
 "nbformat": 4,
 "nbformat_minor": 2
}
